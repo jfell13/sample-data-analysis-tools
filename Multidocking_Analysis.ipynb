{
 "cells": [
  {
   "cell_type": "code",
   "execution_count": null,
   "metadata": {},
   "outputs": [],
   "source": [
    "import os\n",
    "import sys\n",
    "import pandas as pd\n",
    "import numpy as np\n",
    "import matplotlib.pyplot as plt\n",
    "import matplotlib.mlab as mlab"
   ]
  },
  {
   "cell_type": "markdown",
   "metadata": {},
   "source": [
    "Copy your score files (files ending in .sc) into the direcotry with this notebook. \n",
    "If in binder, upload into binder."
   ]
  },
  {
   "cell_type": "code",
   "execution_count": null,
   "metadata": {},
   "outputs": [],
   "source": [
    "listdata = []\n",
    "\n",
    "for i in os.listdir('.'): # Reads in all score files (*.sc) within current working directory (CWD).\n",
    "    if i.endswith('.sc'):\n",
    "        try:\n",
    "            d = pd.read_csv(i, sep='\\s+')\n",
    "            listdata.append(d)\n",
    "        except FileNotFoundError: # This skips missing score files.\n",
    "            continue\n",
    "\n",
    "df = pd.concat(listdata) # Creates a dataframe (DF) from score file data\n",
    "cst_list = []\n",
    "\n",
    "for i in df: # Searches DF for specific constraint energy terms, this is important for docking!\n",
    "    if i.endswith('_all_cst'):\n",
    "        cst_list.append(df[i])\n",
    "        \n",
    "for j in cst_list: # This creates a new constraint column for analysis.\n",
    "    df['Constraint'] = sum(cst_list)\n",
    "\n",
    "for i in df: # Searches DF for specific interface energy term, this is important for docking!\n",
    "    if i.endswith('_E_1_2'): # Interface energy alwasy ends with \"_E_1_2\" for single docking\n",
    "        interfaceE = i\n",
    "    elif i.endswith('_E_1_3'): # Interface energy alwasy ends with \"_E_1_3\" for multidocking\n",
    "        interfaceE = i\n",
    "    else: # Skips all other terms\n",
    "        pass"
   ]
  },
  {
   "cell_type": "markdown",
   "metadata": {},
   "source": [
    "After determining docking variables, a dataframe is created that only shows the interaction energy, score, constraint value, and pose name. The number of poses present are printed too."
   ]
  },
  {
   "cell_type": "code",
   "execution_count": null,
   "metadata": {},
   "outputs": [],
   "source": [
    "df_copy = df[['total_score',interfaceE,'Constraint','description']] \n",
    "df_copy = df_copy[df_copy.Constraint < 1.00] # Constraint filter, comment out to remove filter.\n",
    "print(str(len(df_copy)) + \" poses in df_copy\")\n",
    "df_copy"
   ]
  },
  {
   "cell_type": "markdown",
   "metadata": {},
   "source": [
    "Filters results by interaction energy. Poses that are in the lowest 25% by interface energy are filtered."
   ]
  },
  {
   "cell_type": "code",
   "execution_count": null,
   "metadata": {},
   "outputs": [],
   "source": [
    "df_copy2 = df_copy.sort_values(interfaceE, ascending=True)[0:round(0.25*len(df_copy))]\n",
    "print(str(len(df_10_13_11_copy2)) + \" poses in df_copy2\")\n",
    "df_copy2"
   ]
  },
  {
   "cell_type": "markdown",
   "metadata": {},
   "source": [
    "Lastly, the poses are filtered again by score. Poses that are in the lowest 25% by score are filtered."
   ]
  },
  {
   "cell_type": "code",
   "execution_count": null,
   "metadata": {},
   "outputs": [],
   "source": [
    "df_copy3 = df_copy2.sort_values('total_score', ascending=True)[0:round(0.25*len(df_copy2))] \n",
    "print(str(len(df_copy3)) + \" posess in df_1copy3\")\n",
    "df_copy3.sort_values(interfaceE, ascending=True)[0:10]"
   ]
  },
  {
   "cell_type": "markdown",
   "metadata": {},
   "source": [
    "This next cell will calculate a bunch of statistics with your starting and ending data."
   ]
  },
  {
   "cell_type": "code",
   "execution_count": null,
   "metadata": {},
   "outputs": [],
   "source": [
    "total_mean = round(df.total_score.mean(),1)\n",
    "total_mean_std = round(df.total_score.std(),1)\n",
    "inter_mean = round(df[interfaceE].mean(),1)\n",
    "inter_mean_std = round(df[interfaceE].std(),1)\n",
    "constraint_mean = round(df.Constraint.mean(),1)\n",
    "constraint_mean_std = round(df.Constraint.std(),1)\n",
    "filered_score_mean = round(df_copy3.total_score.mean(),1)\n",
    "filered_score_mean_std = round(df_copy3.total_score.std(),1)\n",
    "fitlered_inter_mean = round(df_copy3[interfaceE].mean(),1)\n",
    "fitlered_inter_mean_std = round(df_copy3[interfaceE].std(),1)\n",
    "fitlered_constraint_mean = round(df_copy3.Constraint.mean(),1)\n",
    "fitlered_constraint_mean_std = round(df_copy3.Constraint.std(),1)\n",
    "print('Starting number of poses = %s' % (str(len(df))))\n",
    "print('Global Ave = %s +/- %s' % (str(total_mean), str(total_mean_std))\n",
    "print('Global IntE = %s +/- %s' % (str(inter_mean), str(inter_mean_std)))\n",
    "print('Global Constraint = %s +/- %s' % (str(constraint_mean), str(constraint_mean_std)))\n",
    "print('Total Filtered Poses = %s ' % (str(len(df_copy3))))\n",
    "print('Filtered Ave = %s +/- %s' % (str(filtered_score_mean),str(filered_score_mean_std)))\n",
    "print('Filtered IntE = %s +/- %s' % (str(filtered_inter_mean),str(fitlered_inter_mean_std)))\n",
    "print('Filtered Constraint = %s +/- %s' % (str(filtered_constraint_mean),str(fitlered_constraint_mean_std)))"
   ]
  },
  {
   "cell_type": "markdown",
   "metadata": {},
   "source": [
    "Last cell creates a scatter plot for the final dataframe with all filtered data."
   ]
  },
  {
   "cell_type": "code",
   "execution_count": null,
   "metadata": {},
   "outputs": [],
   "source": [
    "df_copy3.plot.scatter(x='total_score',y=interfaceE) # Creates a scatter plot\n",
    "plt.xlabel('Total Score', fontsize='12') # x-axis Label\n",
    "plt.ylabel('Interface Energy', fontsize='12') # y-axis Label\n",
    "plt.title('Interface Energy vs. Total Score', fontsize='14') # Plot Title\n",
    "plt.axvline(total_mean,color='k', linestyle='dashed', linewidth=2) # Creates average for x-axis values\n",
    "plt.axhline(inter_mean,color='k', linestyle='dashed', linewidth=2) # Creates average for y-axis values\n",
    "#plt.text(df.total_score.max() - 3*df.total_score.std(), \n",
    "         #df[interfaceE].min(), \n",
    "         #'Total Score Average = %s\\nInterface Energy Average = %s' \n",
    "         #% (total_mean, inter_mean), \n",
    "         #fontsize='10') # Text and text placement\n",
    "#plt.axvline(-1779.7,color='r', linestyle='dashed', linewidth=1.5) #control line\n",
    "#plt.axhline(6.87,color='r', linestyle='dashed', linewidth=1.5) #control line\n",
    "#plt.savefig('NAME.png')"
   ]
  }
 ],
 "metadata": {
  "kernelspec": {
   "display_name": "Python 3",
   "language": "python",
   "name": "python3"
  },
  "language_info": {
   "codemirror_mode": {
    "name": "ipython",
    "version": 3
   },
   "file_extension": ".py",
   "mimetype": "text/x-python",
   "name": "python",
   "nbconvert_exporter": "python",
   "pygments_lexer": "ipython3",
   "version": "3.6.9"
  }
 },
 "nbformat": 4,
 "nbformat_minor": 2
}
