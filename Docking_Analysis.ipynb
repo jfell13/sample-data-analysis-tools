{
 "cells": [
  {
   "cell_type": "code",
   "execution_count": null,
   "metadata": {},
   "outputs": [],
   "source": [
    "import os\n",
    "import sys\n",
    "import pandas as pd\n",
    "import numpy as np\n",
    "import matplotlib.pyplot as plt\n",
    "import matplotlib.mlab as mlab"
   ]
  },
  {
   "cell_type": "markdown",
   "metadata": {},
   "source": [
    "Copy your score files (files ending in .sc) into the direcotry with this notebook. If in binder, upload into binder.\n",
    "\n",
    "Constraint variables are determined from the initial dataframe generated."
   ]
  },
  {
   "cell_type": "code",
   "execution_count": null,
   "metadata": {},
   "outputs": [],
   "source": [
    "listdata = []\n",
    "\n",
    "for i in os.listdir('.'): # Searches current directory\n",
    "    if i.endswith('.sc'): # Only score files ending in \".sc\"\n",
    "        try:\n",
    "            d = pd.read_csv(i, sep='\\s+')\n",
    "            listdata.append(d)\n",
    "        except FileNotFoundError: # This skips missing score files.\n",
    "            continue\n",
    "df = pd.concat(listdata) # Creates a dataframe (DF) from score file data\n",
    "\n",
    "cst_list = []\n",
    "\n",
    "for i in df: # Searches DF for specific constraint energy terms, this is important for docking!\n",
    "    if i.endswith('_all_cst'):\n",
    "        cst_list.append(df[i])\n",
    "        \n",
    "for j in cst_list: # This creates a new constraint column for analysis.\n",
    "    df['Constraint'] = sum(cst_list)\n",
    "\n",
    "df.sort_values('total_score', ascending=True) # Sorts DF by total score with lowest energy on top.\n",
    "df # Prints entire dataframe."
   ]
  },
  {
   "cell_type": "markdown",
   "metadata": {},
   "source": [
    "The interaction energy variable is determined.\n",
    "\n",
    "This step truncates the data being presented to only the score, interaction energy, constraint and description (pose name). \n",
    "\n",
    "If you are not interested in constraint filters, comment the filter line out (add # at line start)."
   ]
  },
  {
   "cell_type": "code",
   "execution_count": null,
   "metadata": {},
   "outputs": [],
   "source": [
    "for i in df: # Searches DF for specific interface energy term, this is important for docking!\n",
    "    if i.endswith('_E_1_2'): # Interface energy alwasy ends with \"_E_1_2\"\n",
    "        print(i) # Prints the DF name of the interface energy\n",
    "        interfaceE = i\n",
    "    else: # Skips all other terms\n",
    "        pass\n",
    "# Creates a second Df containting description (pdb), Total Score and interface energy\n",
    "df_copy = df[['total_score',interfaceE,'Constraint','description']] \n",
    "df_copy = df_copy[df_copy.Constraint < 1.00] # This is a constraint filter.\n",
    "print(str(len(df_copy))) # Prints how many lines are in the dataframe.\n",
    "df_copy.sort_values('total_score', ascending=True)#[0:10] # Sorts DF by total score with 10 lowest energy."
   ]
  },
  {
   "cell_type": "markdown",
   "metadata": {},
   "source": [
    "This next step analyzes docking results from the lowest poses with interaction energy."
   ]
  },
  {
   "cell_type": "code",
   "execution_count": null,
   "metadata": {},
   "outputs": [],
   "source": [
    "df_copy2 = df_copy\n",
    "df_copy2.sort_values(interfaceE, ascending=True)[0:10] # Sorts DF by interface energy, shows 10 lowest energy."
   ]
  },
  {
   "cell_type": "code",
   "execution_count": null,
   "metadata": {},
   "outputs": [],
   "source": [
    "total_mean = round(df.total_score.mean(),1)\n",
    "inter_mean = round(df[interfaceE].mean(),1)\n",
    "print(\"Total Score Average = \" + str(total_mean))\n",
    "print(\"Lowest Total Score Value = \" + str(df.total_score.min()))\n",
    "print(\"Interface Energy Average = \" + str(inter_mean))\n",
    "print(\"Lowest Interface Energy Value = \" + str(df[interfaceE].min()))"
   ]
  },
  {
   "cell_type": "code",
   "execution_count": null,
   "metadata": {},
   "outputs": [],
   "source": [
    "df.plot.scatter(x='total_score',y=interfaceE) # Creates a scatter plot\n",
    "plt.xlabel('Total Score', fontsize='12') # x-axis Label\n",
    "plt.ylabel('Interface Energy', fontsize='12') # y-axis Label\n",
    "plt.title('Interface Energy vs. Total Score', fontsize='14') # Plot Title\n",
    "plt.axvline(total_mean,color='k', linestyle='dashed', linewidth=2) # Creates average for x-axis values\n",
    "plt.axhline(inter_mean,color='k', linestyle='dashed', linewidth=2) # Creates average for y-axis values\n",
    "plt.text(df.total_score.max() - 3*df.total_score.std(), \n",
    "         df[interfaceE].min(), \n",
    "         'Total Score Average = %s\\nInterface Energy Average = %s' \n",
    "         % (total_mean, inter_mean), \n",
    "         fontsize='10') # Text and text placement\n",
    "#plt.axvline(-1779.7,color='r', linestyle='dashed', linewidth=1.5) #control line\n",
    "#plt.axhline(6.87,color='r', linestyle='dashed', linewidth=1.5) #control line\n",
    "#plt.savefig('NAME.png')"
   ]
  }
 ],
 "metadata": {
  "kernelspec": {
   "display_name": "Python 3",
   "language": "python",
   "name": "python3"
  },
  "language_info": {
   "codemirror_mode": {
    "name": "ipython",
    "version": 3
   },
   "file_extension": ".py",
   "mimetype": "text/x-python",
   "name": "python",
   "nbconvert_exporter": "python",
   "pygments_lexer": "ipython3",
   "version": "3.6.9"
  }
 },
 "nbformat": 4,
 "nbformat_minor": 2
}
