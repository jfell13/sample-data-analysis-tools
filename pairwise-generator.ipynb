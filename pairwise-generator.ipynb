{
 "cells": [
  {
   "cell_type": "markdown",
   "metadata": {},
   "source": [
    "This notebook will generate a heatmap for sequence pairwise identity. "
   ]
  },
  {
   "cell_type": "code",
   "execution_count": null,
   "metadata": {},
   "outputs": [],
   "source": [
    "import os\n",
    "import Bio\n",
    "from Bio import SeqIO\n",
    "from Bio import Align\n",
    "import pandas as pd\n",
    "import numpy as np\n",
    "import matplotlib.pyplot as plt\n",
    "from matplotlib import colors\n",
    "import seaborn as sns"
   ]
  },
  {
   "cell_type": "code",
   "execution_count": null,
   "metadata": {},
   "outputs": [],
   "source": [
    "aligner = Align.PairwiseAligner()\n",
    "\n",
    "family = {}\n",
    "enzyme = []\n",
    "for fasta in SeqIO.parse(\"\", \"fasta\"):\n",
    "    family[fasta.id] = fasta.seq\n",
    "    enzyme.append(fasta.id)\n",
    "    \n",
    "I = pd.Index(family)\n",
    "C = pd.Index(family)\n",
    "df = pd.DataFrame(data=0, index=I, columns=C)"
   ]
  },
  {
   "cell_type": "markdown",
   "metadata": {},
   "source": [
    "A dataframe is generated that shows the calculated pairwise identity before making the heatmap."
   ]
  },
  {
   "cell_type": "code",
   "execution_count": null,
   "metadata": {},
   "outputs": [],
   "source": [
    "df_copy = df.copy()\n",
    "for i in family:\n",
    "    listdata = []\n",
    "    for j in family:\n",
    "        alignment = aligner.align(family[i], family[j])\n",
    "        alignment.score\n",
    "        if len(family[i]) >= len(family[j]):\n",
    "            listdata.append(round(alignment.score*100/len(family[i]),1))\n",
    "        else:\n",
    "            listdata.append(round(alignment.score*100/len(family[j]),1))\n",
    "    df_copy[i] = listdata\n",
    "df_copy"
   ]
  },
  {
   "cell_type": "markdown",
   "metadata": {},
   "source": [
    "This next cell will generate the heatmap. Uncomment the last line to save the heatmap image."
   ]
  },
  {
   "cell_type": "code",
   "execution_count": null,
   "metadata": {},
   "outputs": [],
   "source": [
    "sns.set_style(\"ticks\", {\"font.family\": \"Arial\"})\n",
    "\n",
    "ax2 = sns.heatmap(df_copy2,vmin=0.0,vmax=100.0,linewidths=0.5,cmap=\"Blues\",square=True,fmt='g')\n",
    "plt.yticks(rotation=0, fontsize=12)\n",
    "plt.xticks(rotation=0, fontsize=12)\n",
    "#plt.yticks(rotation=0, fontsize=12, fontweight='bold')\n",
    "cbar = ax2.collections[0].colorbar\n",
    "cbar.ax.tick_params(labelsize=12)\n",
    "ax2.hlines([1], *ax2.get_xlim())\n",
    "ax2.vlines([1], *ax2.get_xlim())\n",
    "#plt.savefig('p450_heatmap_noperc3.png', dpi=200)"
   ]
  }
 ],
 "metadata": {
  "kernelspec": {
   "display_name": "Python 3",
   "language": "python",
   "name": "python3"
  },
  "language_info": {
   "codemirror_mode": {
    "name": "ipython",
    "version": 3
   },
   "file_extension": ".py",
   "mimetype": "text/x-python",
   "name": "python",
   "nbconvert_exporter": "python",
   "pygments_lexer": "ipython3",
   "version": "3.6.9"
  }
 },
 "nbformat": 4,
 "nbformat_minor": 2
}
