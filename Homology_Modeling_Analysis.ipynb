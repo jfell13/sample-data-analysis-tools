{
 "cells": [
  {
   "cell_type": "code",
   "execution_count": null,
   "metadata": {},
   "outputs": [],
   "source": [
    "import os\n",
    "import pandas as pd\n",
    "import numpy as np\n",
    "import matplotlib.pyplot as plt\n",
    "import matplotlib.mlab as mlab"
   ]
  },
  {
   "cell_type": "markdown",
   "metadata": {},
   "source": [
    "Copy your score files (files ending in .sc) into the direcotry with this notebook. If in binder, upload into binder.\n",
    "\n",
    "Score files will be parsed through for pertinent data. \n",
    "\n",
    "A final dataframe will be created that only considers model score and description (pdb name)."
   ]
  },
  {
   "cell_type": "code",
   "execution_count": null,
   "metadata": {},
   "outputs": [],
   "source": [
    "listdata = []\n",
    "for i in os.listdir('.'): # Searches through current directory.\n",
    "    if i.endswith('.sc'): # Looks for only score files ending in \".sc\".\n",
    "        with open(i, \"r+\") as f:\n",
    "            new_f = f.readlines()\n",
    "            f.seek(0)\n",
    "            for line in new_f:\n",
    "                if \"SEQUENCE:\" not in line: # These lines removes extra text from homology modeling output.\n",
    "                    f.write(line)\n",
    "            f.truncate()\n",
    "        d = pd.read_csv(i , sep='\\s+')\n",
    "        listdata.append(d)\n",
    "\n",
    "df = pd.concat(listdata)\n",
    "df = df.drop(columns=['SCORE:'])\n",
    "#df.to_csv('NAME.csv') # uncomment to save dataframe as .csv\n",
    "df.set_index('description') # the 'descirption' column is the name of the model."
   ]
  },
  {
   "cell_type": "code",
   "execution_count": null,
   "metadata": {},
   "outputs": [],
   "source": [
    "df2 = df[['total_score','description']] # Generally, lower score equates to \"better\" structure. \n",
    "df2.sort_values('total_score', ascending=True)[0:10] # Sorts by score, and displays lowest 10."
   ]
  }
 ],
 "metadata": {
  "kernelspec": {
   "display_name": "Python 3",
   "language": "python",
   "name": "python3"
  },
  "language_info": {
   "codemirror_mode": {
    "name": "ipython",
    "version": 3
   },
   "file_extension": ".py",
   "mimetype": "text/x-python",
   "name": "python",
   "nbconvert_exporter": "python",
   "pygments_lexer": "ipython3",
   "version": "3.6.9"
  }
 },
 "nbformat": 4,
 "nbformat_minor": 2
}
